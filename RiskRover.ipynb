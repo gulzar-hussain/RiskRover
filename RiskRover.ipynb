{
  "nbformat": 4,
  "nbformat_minor": 0,
  "metadata": {
    "colab": {
      "provenance": [],
      "gpuType": "T4"
    },
    "kernelspec": {
      "name": "python3",
      "display_name": "Python 3"
    },
    "language_info": {
      "name": "python"
    },
    "accelerator": "GPU"
  },
  "cells": [
    {
      "cell_type": "markdown",
      "source": [
        "#**SSF Document analyzer using  PaLM 2 + Pinecone + LangChain**\n"
      ],
      "metadata": {
        "id": "0_mTHIbhmwu3"
      }
    },
    {
      "cell_type": "markdown",
      "source": [
        "---------------------------------------------------------------------------\n",
        "## *Limit for api*\n",
        "\n",
        "- Base_model:textembedding-gecko requests per minute\t600\n",
        "- Ase_model:chat-bison requests per minute\t60\n",
        "- The API accepts a maximum of 3,072 input tokens and outputs 768-dimensional vector embeddings\n",
        "- Max vector dimensionality is 20,000.\n",
        "----------------------------------------------------------------------------"
      ],
      "metadata": {
        "id": "jvF26yl48loJ"
      }
    },
    {
      "cell_type": "markdown",
      "source": [
        "#**Step 01: Install All the Required Packages**"
      ],
      "metadata": {
        "id": "7fwtAZA6nBiX"
      }
    },
    {
      "cell_type": "code",
      "execution_count": 4,
      "metadata": {
        "colab": {
          "base_uri": "https://localhost:8080/"
        },
        "id": "rKDXPESimGvl",
        "outputId": "798f3161-c413-4df7-aa76-b87f2c29917b"
      },
      "outputs": [
        {
          "output_type": "stream",
          "name": "stdout",
          "text": [
            "Collecting langchain\n",
            "  Downloading langchain-0.0.335-py3-none-any.whl (2.0 MB)\n",
            "\u001b[2K     \u001b[90m━━━━━━━━━━━━━━━━━━━━━━━━━━━━━━━━━━━━━━━━\u001b[0m \u001b[32m2.0/2.0 MB\u001b[0m \u001b[31m21.1 MB/s\u001b[0m eta \u001b[36m0:00:00\u001b[0m\n",
            "\u001b[?25hRequirement already satisfied: PyYAML>=5.3 in /usr/local/lib/python3.10/dist-packages (from langchain) (6.0.1)\n",
            "Requirement already satisfied: SQLAlchemy<3,>=1.4 in /usr/local/lib/python3.10/dist-packages (from langchain) (2.0.23)\n",
            "Requirement already satisfied: aiohttp<4.0.0,>=3.8.3 in /usr/local/lib/python3.10/dist-packages (from langchain) (3.8.6)\n",
            "Requirement already satisfied: anyio<4.0 in /usr/local/lib/python3.10/dist-packages (from langchain) (3.7.1)\n",
            "Requirement already satisfied: async-timeout<5.0.0,>=4.0.0 in /usr/local/lib/python3.10/dist-packages (from langchain) (4.0.3)\n",
            "Collecting dataclasses-json<0.7,>=0.5.7 (from langchain)\n",
            "  Downloading dataclasses_json-0.6.2-py3-none-any.whl (28 kB)\n",
            "Collecting jsonpatch<2.0,>=1.33 (from langchain)\n",
            "  Downloading jsonpatch-1.33-py2.py3-none-any.whl (12 kB)\n",
            "Collecting langsmith<0.1.0,>=0.0.63 (from langchain)\n",
            "  Downloading langsmith-0.0.64-py3-none-any.whl (45 kB)\n",
            "\u001b[2K     \u001b[90m━━━━━━━━━━━━━━━━━━━━━━━━━━━━━━━━━━━━━━━━\u001b[0m \u001b[32m45.5/45.5 kB\u001b[0m \u001b[31m5.7 MB/s\u001b[0m eta \u001b[36m0:00:00\u001b[0m\n",
            "\u001b[?25hRequirement already satisfied: numpy<2,>=1 in /usr/local/lib/python3.10/dist-packages (from langchain) (1.23.5)\n",
            "Requirement already satisfied: pydantic<3,>=1 in /usr/local/lib/python3.10/dist-packages (from langchain) (1.10.13)\n",
            "Requirement already satisfied: requests<3,>=2 in /usr/local/lib/python3.10/dist-packages (from langchain) (2.31.0)\n",
            "Requirement already satisfied: tenacity<9.0.0,>=8.1.0 in /usr/local/lib/python3.10/dist-packages (from langchain) (8.2.3)\n",
            "Requirement already satisfied: attrs>=17.3.0 in /usr/local/lib/python3.10/dist-packages (from aiohttp<4.0.0,>=3.8.3->langchain) (23.1.0)\n",
            "Requirement already satisfied: charset-normalizer<4.0,>=2.0 in /usr/local/lib/python3.10/dist-packages (from aiohttp<4.0.0,>=3.8.3->langchain) (3.3.2)\n",
            "Requirement already satisfied: multidict<7.0,>=4.5 in /usr/local/lib/python3.10/dist-packages (from aiohttp<4.0.0,>=3.8.3->langchain) (6.0.4)\n",
            "Requirement already satisfied: yarl<2.0,>=1.0 in /usr/local/lib/python3.10/dist-packages (from aiohttp<4.0.0,>=3.8.3->langchain) (1.9.2)\n",
            "Requirement already satisfied: frozenlist>=1.1.1 in /usr/local/lib/python3.10/dist-packages (from aiohttp<4.0.0,>=3.8.3->langchain) (1.4.0)\n",
            "Requirement already satisfied: aiosignal>=1.1.2 in /usr/local/lib/python3.10/dist-packages (from aiohttp<4.0.0,>=3.8.3->langchain) (1.3.1)\n",
            "Requirement already satisfied: idna>=2.8 in /usr/local/lib/python3.10/dist-packages (from anyio<4.0->langchain) (3.4)\n",
            "Requirement already satisfied: sniffio>=1.1 in /usr/local/lib/python3.10/dist-packages (from anyio<4.0->langchain) (1.3.0)\n",
            "Requirement already satisfied: exceptiongroup in /usr/local/lib/python3.10/dist-packages (from anyio<4.0->langchain) (1.1.3)\n",
            "Collecting marshmallow<4.0.0,>=3.18.0 (from dataclasses-json<0.7,>=0.5.7->langchain)\n",
            "  Downloading marshmallow-3.20.1-py3-none-any.whl (49 kB)\n",
            "\u001b[2K     \u001b[90m━━━━━━━━━━━━━━━━━━━━━━━━━━━━━━━━━━━━━━━━\u001b[0m \u001b[32m49.4/49.4 kB\u001b[0m \u001b[31m5.7 MB/s\u001b[0m eta \u001b[36m0:00:00\u001b[0m\n",
            "\u001b[?25hCollecting typing-inspect<1,>=0.4.0 (from dataclasses-json<0.7,>=0.5.7->langchain)\n",
            "  Downloading typing_inspect-0.9.0-py3-none-any.whl (8.8 kB)\n",
            "Collecting jsonpointer>=1.9 (from jsonpatch<2.0,>=1.33->langchain)\n",
            "  Downloading jsonpointer-2.4-py2.py3-none-any.whl (7.8 kB)\n",
            "Requirement already satisfied: typing-extensions>=4.2.0 in /usr/local/lib/python3.10/dist-packages (from pydantic<3,>=1->langchain) (4.5.0)\n",
            "Requirement already satisfied: urllib3<3,>=1.21.1 in /usr/local/lib/python3.10/dist-packages (from requests<3,>=2->langchain) (2.0.7)\n",
            "Requirement already satisfied: certifi>=2017.4.17 in /usr/local/lib/python3.10/dist-packages (from requests<3,>=2->langchain) (2023.7.22)\n",
            "Requirement already satisfied: greenlet!=0.4.17 in /usr/local/lib/python3.10/dist-packages (from SQLAlchemy<3,>=1.4->langchain) (3.0.1)\n",
            "Requirement already satisfied: packaging>=17.0 in /usr/local/lib/python3.10/dist-packages (from marshmallow<4.0.0,>=3.18.0->dataclasses-json<0.7,>=0.5.7->langchain) (23.2)\n",
            "Collecting mypy-extensions>=0.3.0 (from typing-inspect<1,>=0.4.0->dataclasses-json<0.7,>=0.5.7->langchain)\n",
            "  Downloading mypy_extensions-1.0.0-py3-none-any.whl (4.7 kB)\n",
            "Installing collected packages: mypy-extensions, marshmallow, jsonpointer, typing-inspect, langsmith, jsonpatch, dataclasses-json, langchain\n",
            "Successfully installed dataclasses-json-0.6.2 jsonpatch-1.33 jsonpointer-2.4 langchain-0.0.335 langsmith-0.0.64 marshmallow-3.20.1 mypy-extensions-1.0.0 typing-inspect-0.9.0\n",
            "Collecting pinecone-client\n",
            "  Downloading pinecone_client-2.2.4-py3-none-any.whl (179 kB)\n",
            "\u001b[2K     \u001b[90m━━━━━━━━━━━━━━━━━━━━━━━━━━━━━━━━━━━━━━━━\u001b[0m \u001b[32m179.4/179.4 kB\u001b[0m \u001b[31m3.1 MB/s\u001b[0m eta \u001b[36m0:00:00\u001b[0m\n",
            "\u001b[?25hRequirement already satisfied: requests>=2.19.0 in /usr/local/lib/python3.10/dist-packages (from pinecone-client) (2.31.0)\n",
            "Requirement already satisfied: pyyaml>=5.4 in /usr/local/lib/python3.10/dist-packages (from pinecone-client) (6.0.1)\n",
            "Collecting loguru>=0.5.0 (from pinecone-client)\n",
            "  Downloading loguru-0.7.2-py3-none-any.whl (62 kB)\n",
            "\u001b[2K     \u001b[90m━━━━━━━━━━━━━━━━━━━━━━━━━━━━━━━━━━━━━━━━\u001b[0m \u001b[32m62.5/62.5 kB\u001b[0m \u001b[31m6.9 MB/s\u001b[0m eta \u001b[36m0:00:00\u001b[0m\n",
            "\u001b[?25hRequirement already satisfied: typing-extensions>=3.7.4 in /usr/local/lib/python3.10/dist-packages (from pinecone-client) (4.5.0)\n",
            "Collecting dnspython>=2.0.0 (from pinecone-client)\n",
            "  Downloading dnspython-2.4.2-py3-none-any.whl (300 kB)\n",
            "\u001b[2K     \u001b[90m━━━━━━━━━━━━━━━━━━━━━━━━━━━━━━━━━━━━━━━━\u001b[0m \u001b[32m300.4/300.4 kB\u001b[0m \u001b[31m9.3 MB/s\u001b[0m eta \u001b[36m0:00:00\u001b[0m\n",
            "\u001b[?25hRequirement already satisfied: python-dateutil>=2.5.3 in /usr/local/lib/python3.10/dist-packages (from pinecone-client) (2.8.2)\n",
            "Requirement already satisfied: urllib3>=1.21.1 in /usr/local/lib/python3.10/dist-packages (from pinecone-client) (2.0.7)\n",
            "Requirement already satisfied: tqdm>=4.64.1 in /usr/local/lib/python3.10/dist-packages (from pinecone-client) (4.66.1)\n",
            "Requirement already satisfied: numpy>=1.22.0 in /usr/local/lib/python3.10/dist-packages (from pinecone-client) (1.23.5)\n",
            "Requirement already satisfied: six>=1.5 in /usr/local/lib/python3.10/dist-packages (from python-dateutil>=2.5.3->pinecone-client) (1.16.0)\n",
            "Requirement already satisfied: charset-normalizer<4,>=2 in /usr/local/lib/python3.10/dist-packages (from requests>=2.19.0->pinecone-client) (3.3.2)\n",
            "Requirement already satisfied: idna<4,>=2.5 in /usr/local/lib/python3.10/dist-packages (from requests>=2.19.0->pinecone-client) (3.4)\n",
            "Requirement already satisfied: certifi>=2017.4.17 in /usr/local/lib/python3.10/dist-packages (from requests>=2.19.0->pinecone-client) (2023.7.22)\n",
            "Installing collected packages: loguru, dnspython, pinecone-client\n",
            "Successfully installed dnspython-2.4.2 loguru-0.7.2 pinecone-client-2.2.4\n",
            "Collecting pypdf\n",
            "  Downloading pypdf-3.17.1-py3-none-any.whl (277 kB)\n",
            "\u001b[2K     \u001b[90m━━━━━━━━━━━━━━━━━━━━━━━━━━━━━━━━━━━━━━━━\u001b[0m \u001b[32m277.6/277.6 kB\u001b[0m \u001b[31m5.4 MB/s\u001b[0m eta \u001b[36m0:00:00\u001b[0m\n",
            "\u001b[?25hInstalling collected packages: pypdf\n",
            "Successfully installed pypdf-3.17.1\n",
            "\u001b[2K     \u001b[90m━━━━━━━━━━━━━━━━━━━━━━━━━━━━━━━━━━━━━━━━\u001b[0m \u001b[32m133.2/133.2 kB\u001b[0m \u001b[31m2.2 MB/s\u001b[0m eta \u001b[36m0:00:00\u001b[0m\n",
            "\u001b[2K     \u001b[90m━━━━━━━━━━━━━━━━━━━━━━━━━━━━━━━━━━━━━━━━\u001b[0m \u001b[32m267.9/267.9 kB\u001b[0m \u001b[31m8.2 MB/s\u001b[0m eta \u001b[36m0:00:00\u001b[0m\n",
            "\u001b[?25h"
          ]
        }
      ],
      "source": [
        "!pip install langchain\n",
        "!pip install pinecone-client\n",
        "!pip install pypdf\n",
        "!pip install -q google-generativeai"
      ]
    },
    {
      "cell_type": "markdown",
      "source": [
        "#**Step 02: Import All the Required Libraries**"
      ],
      "metadata": {
        "id": "QPMpiAoxoDKg"
      }
    },
    {
      "cell_type": "code",
      "source": [
        "from langchain.document_loaders import PyPDFDirectoryLoader\n",
        "from langchain.text_splitter import RecursiveCharacterTextSplitter\n",
        "from langchain.embeddings import GooglePalmEmbeddings\n",
        "from langchain.llms import GooglePalm\n",
        "from langchain.vectorstores import Pinecone\n",
        "from langchain.chains import RetrievalQA\n",
        "from langchain.prompts import PromptTemplate\n",
        "import pinecone\n",
        "import os\n",
        "import sys\n",
        "from google.colab import userdata\n"
      ],
      "metadata": {
        "id": "b4V2rnsln538",
        "colab": {
          "base_uri": "https://localhost:8080/"
        },
        "outputId": "ef89891e-1bcc-42b3-e0f8-fa137585b812"
      },
      "execution_count": 5,
      "outputs": [
        {
          "output_type": "stream",
          "name": "stderr",
          "text": [
            "/usr/local/lib/python3.10/dist-packages/pinecone/index.py:4: TqdmExperimentalWarning: Using `tqdm.autonotebook.tqdm` in notebook mode. Use `tqdm.tqdm` instead to force console mode (e.g. in jupyter console)\n",
            "  from tqdm.autonotebook import tqdm\n"
          ]
        }
      ]
    },
    {
      "cell_type": "markdown",
      "source": [
        "#**Step 03: Load the PDF Files**"
      ],
      "metadata": {
        "id": "btViLRdvpht6"
      }
    },
    {
      "cell_type": "code",
      "source": [
        "!mkdir pdfs"
      ],
      "metadata": {
        "id": "zrXjdVWPpY6I",
        "colab": {
          "base_uri": "https://localhost:8080/"
        },
        "outputId": "432cdc43-3d9b-4c4b-d91b-12dfe7611667"
      },
      "execution_count": 4,
      "outputs": [
        {
          "output_type": "stream",
          "name": "stdout",
          "text": [
            "mkdir: cannot create directory ‘pdfs’: File exists\n"
          ]
        }
      ]
    },
    {
      "cell_type": "markdown",
      "source": [
        "add all pdf files to 'pdfs' directory before procedding"
      ],
      "metadata": {
        "id": "DrV1YtT9-I5z"
      }
    },
    {
      "cell_type": "markdown",
      "source": [
        "#**Step 04: Extract the Text from the PDF's**"
      ],
      "metadata": {
        "id": "DxKDyZwUpuwI"
      }
    },
    {
      "cell_type": "code",
      "source": [
        "loader = PyPDFDirectoryLoader(\"pdfs\")\n",
        "data = loader.load()\n",
        "for index, document_info in enumerate(data):\n",
        "    data[index].page_content= data[index].page_content.replace('\\n', '').replace('\\r\\n', '').replace('\\r', '')  # removing all newline characters\n"
      ],
      "metadata": {
        "id": "1p9KPyfPpoGA"
      },
      "execution_count": 13,
      "outputs": []
    },
    {
      "cell_type": "code",
      "source": [
        "print(\"page contents\" ,data[3].page_content)\n",
        "print(\"metadata\",data[3].metadata)\n",
        "print(len(data))"
      ],
      "metadata": {
        "colab": {
          "base_uri": "https://localhost:8080/"
        },
        "id": "hqMAX9i1qCtP",
        "outputId": "b61853ff-483e-4eff-da05-82d4ceb7e1bb"
      },
      "execution_count": 30,
      "outputs": [
        {
          "output_type": "stream",
          "name": "stdout",
          "text": [
            "page contents  Page 3 1.2.4 (L1) Ensure 'Reset account lockout counter after' is set to '15 or more minute(s)' (Automated)  ........  50 2 Local Policies  ................................ ................................ ................................ ..................... 53 2.1 Audit Policy  ................................ ................................ ................................ ................................ .... 53 2.2 User Rights Assignment  ................................ ................................ ................................ ...............  53 2.2.1 (L1) Ensure 'Access Credential Manager as a trusted caller' is set to 'No One' (Automated)  ............  54 2.2.2 (L1) Ensure 'Access this co mputer from the network' is set to 'Administrators, Authenticated Users, ENTERPRISE DOMAIN CONTROLLERS' (DC only) (Automated) ................................ .............................  56 2.2.3 (L1) Ensure 'Access this computer from the network' is set to 'Administrators, Authenticated Users' (MS only) (Automated)  ................................ ................................ ................................ ................................  58 2.2.4 (L1) Ensure 'Act as part of the operating system' is set to 'No One' (Automated)  ..............................  60 2.2.5 (L1) Ensure 'Add workstations to domain' is set to 'Administrators' (DC only) (Automated)  ...............  61 2.2.6 (L1) Ensure 'Adjust memory quotas for a process' is set to 'Administrators, LOCAL SERVICE, NETWORK SERVICE' (Automated)  ................................ ................................ ................................ ............  63 2.2.7 (L1) Ensure 'Allow log on locally' is set to 'Administrators' (Automated)  ................................ .............  65 2.2.8 (L1) Ensure 'Allow log on through Remote Desktop Services' is set to 'Administrators' (DC only) (Automated)  ................................ ................................ ................................ ................................ ................  67 2.2.9 (L1) Ensure 'Allow log on through Remote Desktop Services' is set to 'Administrators, Remote Desktop Users' (MS o nly) (Automated)  ................................ ................................ ................................ ....... 69 2.2.10 (L1) Ensure 'Back up files and directories' is set to 'Administrators' (Automated)  ............................  71 2.2.11 (L1) Ensure 'Change the system time' is set to 'Administra tors, LOCAL SERVICE' (Automated)  .... 73 2.2.12 (L1) Ensure 'Change the time zone' is set to 'Administ rators, LOCAL SERVICE' (Automated)  ....... 76 2.2.13 (L1) Ensure 'Create a pagefile' is set to 'Administrators' (Automated) ................................ ..............  77 2.2.14 (L1) Ensure 'Create a token object' is set to 'No One' (Automated)  ................................ .................  78 2.2.15 (L1) Ensure 'Create global objects' is set to 'Administrators, LOCAL SERVI CE, NETWORK SERVICE, SERVICE' (Automated)  ................................ ................................ ................................ .............  79 2.2.16 (L1) Ensure 'Create permanent shared objects ' is set to 'No One' (Automated)  ..............................  81 2.2.17 (L1) Ensure 'Create symbolic links' is set to 'Administrators' (DC only) (Automated)  .......................  82 2.2.18 (L1) Ensure 'Create symbolic links' is set to 'A dministrators, NT VIRTUAL MACHINE \\Virtual Machines' (MS only) (Automated)  ................................ ................................ ................................ ...............  84 2.2.19 (L1) Ensure 'Debug programs' is set to 'Administrators' (Automated)  ................................ ..............  86 2.2.20 (L1) Ensure 'Deny access to this computer from the network' to include 'Guests' (DC only) (Automated)  ................................ ................................ ................................ ................................ ................  88 2.2.21 (L1) Ensure 'Deny access to this computer from the network' to include 'Guests, Local account and member of Administrators group' (MS only) (Automated)  ................................ ................................ ...........  90 2.2.22 (L1) Ensure 'Deny log on as a batch job' to include 'Guests' (Automated)  ................................ ....... 92 2.2.23 (L1) Ensure 'Deny log on as a service' to include 'Guests' (Automated)  ................................ ..........  94 2.2.24 (L1) Ensure 'Deny log on locally' to include 'Guests' (Automated)  ................................ ...................  95 2.2.25 (L1) Ensure 'Deny log on through Remote Desktop Services' to include 'Guests' (DC only) (Automated)  ................................ ................................ ................................ ................................ ................  96 2.2.26 (L1) Ensure 'Deny log on through Remote Desktop Services' is set to 'Guests, Local account' (MS only) (Automated)  ................................ ................................ ................................ ................................ ....... 98 2.2.27 (L1) Ensure 'Enable computer and user accounts to be trusted for delegation' is set to 'Administrators' (DC only) (Automated)  ................................ ................................ ................................ ..... 100 2.2.28 (L1) Ensure 'Enable computer and user accounts to be trusted for delegation' is set to 'No One' (MS only) (Automated)  ................................ ................................ ................................ ................................ ..... 102 2.2.29 (L1) Ensure 'Force shutdown from a remote system' is set to 'Administrators' (Automate d) ..........  104 2.2.30 (L1) Ensure 'Generate security audits' is set to 'LOCAL SERVICE, NETWORK SERVICE' (Automated)  ................................ ................................ ................................ ................................ ..............  106 2.2.31 (L1) Ensure 'Impersonate a client after authentication' is set to 'Administrators, LOCAL SERVICE, NETWORK SERVICE, SERVICE' (DC only) (Automated)  ................................ ................................ ........  108 2.2.32 (L1) E nsure 'Impersonate a client after authentication' is set to 'Administrators, LOCAL SERVICE, NETWORK SERVICE, SERVICE' and (when the Web Server (IIS) Role with Web Services Role Service is installed) 'IIS_IUSRS' (MS only) (Automated)  ................................ ................................ ...........................  110 2.2.33 (L1) Ensure 'Increase scheduling priority' is set to 'Administrators' (Automated)  ...........................  112 2.2.34 (L1) Ensure 'Load and unload device drivers' is set to 'Administrators' (Automated)  .....................  113 \n",
            "metadata {'source': 'pdfs/CIS_Microsoft_Windows_Server_2012_R2_Benchmark_v3.0.0_FINAL_UPDATE.pdf', 'page': 3}\n",
            "5581\n"
          ]
        }
      ]
    },
    {
      "cell_type": "code",
      "source": [
        "from google.colab import drive\n",
        "drive.mount('/content/drive')"
      ],
      "metadata": {
        "colab": {
          "base_uri": "https://localhost:8080/",
          "height": 338
        },
        "id": "vedJJSbT7sYg",
        "outputId": "9382cfad-b3bf-4b73-a0b1-f8df9cc5d823"
      },
      "execution_count": 9,
      "outputs": [
        {
          "output_type": "error",
          "ename": "MessageError",
          "evalue": "ignored",
          "traceback": [
            "\u001b[0;31m---------------------------------------------------------------------------\u001b[0m",
            "\u001b[0;31mMessageError\u001b[0m                              Traceback (most recent call last)",
            "\u001b[0;32m<ipython-input-9-d5df0069828e>\u001b[0m in \u001b[0;36m<cell line: 2>\u001b[0;34m()\u001b[0m\n\u001b[1;32m      1\u001b[0m \u001b[0;32mfrom\u001b[0m \u001b[0mgoogle\u001b[0m\u001b[0;34m.\u001b[0m\u001b[0mcolab\u001b[0m \u001b[0;32mimport\u001b[0m \u001b[0mdrive\u001b[0m\u001b[0;34m\u001b[0m\u001b[0;34m\u001b[0m\u001b[0m\n\u001b[0;32m----> 2\u001b[0;31m \u001b[0mdrive\u001b[0m\u001b[0;34m.\u001b[0m\u001b[0mmount\u001b[0m\u001b[0;34m(\u001b[0m\u001b[0;34m'/content/drive'\u001b[0m\u001b[0;34m)\u001b[0m\u001b[0;34m\u001b[0m\u001b[0;34m\u001b[0m\u001b[0m\n\u001b[0m",
            "\u001b[0;32m/usr/local/lib/python3.10/dist-packages/google/colab/drive.py\u001b[0m in \u001b[0;36mmount\u001b[0;34m(mountpoint, force_remount, timeout_ms, readonly)\u001b[0m\n\u001b[1;32m    101\u001b[0m \u001b[0;32mdef\u001b[0m \u001b[0mmount\u001b[0m\u001b[0;34m(\u001b[0m\u001b[0mmountpoint\u001b[0m\u001b[0;34m,\u001b[0m \u001b[0mforce_remount\u001b[0m\u001b[0;34m=\u001b[0m\u001b[0;32mFalse\u001b[0m\u001b[0;34m,\u001b[0m \u001b[0mtimeout_ms\u001b[0m\u001b[0;34m=\u001b[0m\u001b[0;36m120000\u001b[0m\u001b[0;34m,\u001b[0m \u001b[0mreadonly\u001b[0m\u001b[0;34m=\u001b[0m\u001b[0;32mFalse\u001b[0m\u001b[0;34m)\u001b[0m\u001b[0;34m:\u001b[0m\u001b[0;34m\u001b[0m\u001b[0;34m\u001b[0m\u001b[0m\n\u001b[1;32m    102\u001b[0m   \u001b[0;34m\"\"\"Mount your Google Drive at the specified mountpoint path.\"\"\"\u001b[0m\u001b[0;34m\u001b[0m\u001b[0;34m\u001b[0m\u001b[0m\n\u001b[0;32m--> 103\u001b[0;31m   return _mount(\n\u001b[0m\u001b[1;32m    104\u001b[0m       \u001b[0mmountpoint\u001b[0m\u001b[0;34m,\u001b[0m\u001b[0;34m\u001b[0m\u001b[0;34m\u001b[0m\u001b[0m\n\u001b[1;32m    105\u001b[0m       \u001b[0mforce_remount\u001b[0m\u001b[0;34m=\u001b[0m\u001b[0mforce_remount\u001b[0m\u001b[0;34m,\u001b[0m\u001b[0;34m\u001b[0m\u001b[0;34m\u001b[0m\u001b[0m\n",
            "\u001b[0;32m/usr/local/lib/python3.10/dist-packages/google/colab/drive.py\u001b[0m in \u001b[0;36m_mount\u001b[0;34m(mountpoint, force_remount, timeout_ms, ephemeral, readonly)\u001b[0m\n\u001b[1;32m    130\u001b[0m   )\n\u001b[1;32m    131\u001b[0m   \u001b[0;32mif\u001b[0m \u001b[0mephemeral\u001b[0m\u001b[0;34m:\u001b[0m\u001b[0;34m\u001b[0m\u001b[0;34m\u001b[0m\u001b[0m\n\u001b[0;32m--> 132\u001b[0;31m     _message.blocking_request(\n\u001b[0m\u001b[1;32m    133\u001b[0m         \u001b[0;34m'request_auth'\u001b[0m\u001b[0;34m,\u001b[0m \u001b[0mrequest\u001b[0m\u001b[0;34m=\u001b[0m\u001b[0;34m{\u001b[0m\u001b[0;34m'authType'\u001b[0m\u001b[0;34m:\u001b[0m \u001b[0;34m'dfs_ephemeral'\u001b[0m\u001b[0;34m}\u001b[0m\u001b[0;34m,\u001b[0m \u001b[0mtimeout_sec\u001b[0m\u001b[0;34m=\u001b[0m\u001b[0;32mNone\u001b[0m\u001b[0;34m\u001b[0m\u001b[0;34m\u001b[0m\u001b[0m\n\u001b[1;32m    134\u001b[0m     )\n",
            "\u001b[0;32m/usr/local/lib/python3.10/dist-packages/google/colab/_message.py\u001b[0m in \u001b[0;36mblocking_request\u001b[0;34m(request_type, request, timeout_sec, parent)\u001b[0m\n\u001b[1;32m    174\u001b[0m       \u001b[0mrequest_type\u001b[0m\u001b[0;34m,\u001b[0m \u001b[0mrequest\u001b[0m\u001b[0;34m,\u001b[0m \u001b[0mparent\u001b[0m\u001b[0;34m=\u001b[0m\u001b[0mparent\u001b[0m\u001b[0;34m,\u001b[0m \u001b[0mexpect_reply\u001b[0m\u001b[0;34m=\u001b[0m\u001b[0;32mTrue\u001b[0m\u001b[0;34m\u001b[0m\u001b[0;34m\u001b[0m\u001b[0m\n\u001b[1;32m    175\u001b[0m   )\n\u001b[0;32m--> 176\u001b[0;31m   \u001b[0;32mreturn\u001b[0m \u001b[0mread_reply_from_input\u001b[0m\u001b[0;34m(\u001b[0m\u001b[0mrequest_id\u001b[0m\u001b[0;34m,\u001b[0m \u001b[0mtimeout_sec\u001b[0m\u001b[0;34m)\u001b[0m\u001b[0;34m\u001b[0m\u001b[0;34m\u001b[0m\u001b[0m\n\u001b[0m",
            "\u001b[0;32m/usr/local/lib/python3.10/dist-packages/google/colab/_message.py\u001b[0m in \u001b[0;36mread_reply_from_input\u001b[0;34m(message_id, timeout_sec)\u001b[0m\n\u001b[1;32m    101\u001b[0m     ):\n\u001b[1;32m    102\u001b[0m       \u001b[0;32mif\u001b[0m \u001b[0;34m'error'\u001b[0m \u001b[0;32min\u001b[0m \u001b[0mreply\u001b[0m\u001b[0;34m:\u001b[0m\u001b[0;34m\u001b[0m\u001b[0;34m\u001b[0m\u001b[0m\n\u001b[0;32m--> 103\u001b[0;31m         \u001b[0;32mraise\u001b[0m \u001b[0mMessageError\u001b[0m\u001b[0;34m(\u001b[0m\u001b[0mreply\u001b[0m\u001b[0;34m[\u001b[0m\u001b[0;34m'error'\u001b[0m\u001b[0;34m]\u001b[0m\u001b[0;34m)\u001b[0m\u001b[0;34m\u001b[0m\u001b[0;34m\u001b[0m\u001b[0m\n\u001b[0m\u001b[1;32m    104\u001b[0m       \u001b[0;32mreturn\u001b[0m \u001b[0mreply\u001b[0m\u001b[0;34m.\u001b[0m\u001b[0mget\u001b[0m\u001b[0;34m(\u001b[0m\u001b[0;34m'data'\u001b[0m\u001b[0;34m,\u001b[0m \u001b[0;32mNone\u001b[0m\u001b[0;34m)\u001b[0m\u001b[0;34m\u001b[0m\u001b[0;34m\u001b[0m\u001b[0m\n\u001b[1;32m    105\u001b[0m \u001b[0;34m\u001b[0m\u001b[0m\n",
            "\u001b[0;31mMessageError\u001b[0m: Error: credential propagation was unsuccessful"
          ]
        }
      ]
    },
    {
      "cell_type": "markdown",
      "source": [
        "#**Step 05: Split the Extracted Data into Text Chunks**"
      ],
      "metadata": {
        "id": "bhAHycYuqRDB"
      }
    },
    {
      "cell_type": "code",
      "source": [
        "text_splitter = RecursiveCharacterTextSplitter(chunk_size=500, chunk_overlap=20)"
      ],
      "metadata": {
        "id": "PObfNUEcqGJe"
      },
      "execution_count": 15,
      "outputs": []
    },
    {
      "cell_type": "code",
      "source": [
        "text_chunks = text_splitter.split_documents(data)"
      ],
      "metadata": {
        "id": "mE5gbklRqg-X"
      },
      "execution_count": 16,
      "outputs": []
    },
    {
      "cell_type": "code",
      "source": [
        "len(text_chunks)"
      ],
      "metadata": {
        "colab": {
          "base_uri": "https://localhost:8080/"
        },
        "id": "mVq2Eh_NjSBy",
        "outputId": "a005c663-92e9-48dc-9083-f50a4a3c036e"
      },
      "execution_count": 17,
      "outputs": [
        {
          "output_type": "execute_result",
          "data": {
            "text/plain": [
              "21189"
            ]
          },
          "metadata": {},
          "execution_count": 17
        }
      ]
    },
    {
      "cell_type": "markdown",
      "source": [
        "# Making a list of all documents and adding encoded Pg number to every chunk"
      ],
      "metadata": {
        "id": "zFrW5PVedYt3"
      }
    },
    {
      "cell_type": "code",
      "source": [
        "doc_names = []\n",
        "count = 0\n",
        "for index, document_info in enumerate(text_chunks):\n",
        "  value = text_chunks[index].metadata['source']  # name of the document\n",
        "  if (value in doc_names): # if already present we just need to get the doc number\n",
        "    count = doc_names.index(value)\n",
        "  else: # else we need to add the document name to the list and return the doc number to be embedded\n",
        "      doc_names.append(value)\n",
        "      count=len(doc_names)-1\n",
        "\n",
        "  text_chunks[index].page_content= text_chunks[index].page_content + \" |\" + str(count+1) + \":\" + str(text_chunks[index].metadata['page'])+ \"|\"\n",
        "\n",
        "\n",
        "print(len(doc_names),doc_names)\n"
      ],
      "metadata": {
        "colab": {
          "base_uri": "https://localhost:8080/"
        },
        "id": "40lbTG73qlWK",
        "outputId": "75a92e80-df9c-4b58-98ed-6caef87bccbe"
      },
      "execution_count": 31,
      "outputs": [
        {
          "output_type": "stream",
          "name": "stdout",
          "text": [
            "19 ['pdfs/CIS_Microsoft_Windows_Server_2012_R2_Benchmark_v3.0.0_FINAL_UPDATE.pdf', 'pdfs/CIS_Red_Hat_Enterprise_Linux_9_Benchmark_v1.0.0.pdf', 'pdfs/NIST.SP.800-37r2.pdf', 'pdfs/CIS_Fortigate_7.0.x_Benchmark_v1.2.0 .pdf', 'pdfs/NIST.SP.800-30r1.pdf', 'pdfs/NIST.IR.8286.pdf', 'pdfs/CIS_Microsoft_SQL_Server_2022_Benchmark_v1.0.0.pdf', 'pdfs/CIS_Microsoft_SQL_Server_2014_Benchmark_v1.5.0.pdf', 'pdfs/CIS_Microsoft_Windows_Server_2022_Benchmark_v2.0.0.pdf', 'pdfs/ISO 31000_2018-02.pdf', 'pdfs/CIS_Mongodb_6_Benchmark_v1.1.0_PDF.pdf', 'pdfs/CIS_IBM_Db2_11_Benchmark_v1.1.0.pdf', 'pdfs/CIS_NGINX_Benchmark_v2.0.1.pdf', 'pdfs/NIST.SP.800-53r5.pdf', 'pdfs/CIS_Oracle_Database_19c_Benchmark_v1.1.0.pdf', 'pdfs/ISO IEC 27001_2013(E).pdf', 'pdfs/CIS_VMWare_ESXi_8.0_Benchmark_V1.0.0.pdf', 'pdfs/ISO IEC 27005 2022-10.pdf', 'pdfs/CIS_Microsoft_Exchange_Server_2019_Benchmark_v1.0.0.pdf']\n"
          ]
        }
      ]
    },
    {
      "cell_type": "code",
      "source": [
        "text_chunks[101]"
      ],
      "metadata": {
        "colab": {
          "base_uri": "https://localhost:8080/"
        },
        "id": "NuQE-Eh2qqjo",
        "outputId": "cdee18f2-42c0-47c2-b2a6-a8b1434891de"
      },
      "execution_count": 19,
      "outputs": [
        {
          "output_type": "execute_result",
          "data": {
            "text/plain": [
              "Document(page_content='.... 394 |1:8|', metadata={'source': 'pdfs/CIS_Microsoft_Windows_Server_2012_R2_Benchmark_v3.0.0_FINAL_UPDATE.pdf', 'page': 8})"
            ]
          },
          "metadata": {},
          "execution_count": 19
        }
      ]
    },
    {
      "cell_type": "code",
      "source": [
        "text_chunks[100]"
      ],
      "metadata": {
        "colab": {
          "base_uri": "https://localhost:8080/"
        },
        "id": "MtNTXNio5LuD",
        "outputId": "25e16c92-af45-4671-93c6-38e8bf65bc5e"
      },
      "execution_count": 20,
      "outputs": [
        {
          "output_type": "execute_result",
          "data": {
            "text/plain": [
              "Document(page_content=\"'Audit Special Logon' is set to include 'Success' (Automated)  ................................ .... 389 17.6 Object Access  ................................ ................................ ................................ ............................  391 17.6.1 (L1) Ensure 'Audit Detailed File Share' is set to include 'Failure' (Automated)  ...............................  392 17.6.2 (L1) Ensure 'Audit File Share' is set to 'Success and Failure' (Automated)  ................................ |1:8|\", metadata={'source': 'pdfs/CIS_Microsoft_Windows_Server_2012_R2_Benchmark_v3.0.0_FINAL_UPDATE.pdf', 'page': 8})"
            ]
          },
          "metadata": {},
          "execution_count": 20
        }
      ]
    },
    {
      "cell_type": "code",
      "source": [
        "text_chunks[21000]"
      ],
      "metadata": {
        "colab": {
          "base_uri": "https://localhost:8080/"
        },
        "id": "Bj6DO5GYuZGp",
        "outputId": "6d64bf4b-b9b4-4ab7-cd14-1279637504d1"
      },
      "execution_count": 24,
      "outputs": [
        {
          "output_type": "execute_result",
          "data": {
            "text/plain": [
              "Document(page_content='Page 61 Default Value:  10 MB (10,485,760 bytes)  References:  1. https://learn.microsoft.com/en -us/exchange/mail -flow/message -size-limits?view=exchserver -2019#organizationa l-limits  2. https://learn.microsoft.com/en -us/powershell/module/exchange/set -sendconnector?view=exchange -ps#-maxmessagesize |19:61|', metadata={'source': 'pdfs/CIS_Microsoft_Exchange_Server_2019_Benchmark_v1.0.0.pdf', 'page': 61})"
            ]
          },
          "metadata": {},
          "execution_count": 24
        }
      ]
    },
    {
      "cell_type": "code",
      "source": [
        "os.environ['GOOGLE_API_KEY'] = userdata.get('GOOGLE_PALM_API_KEY') # add ur api key \"asdasdsafdsgsfgsd\""
      ],
      "metadata": {
        "id": "TCZSH6OYsW6A"
      },
      "execution_count": 6,
      "outputs": []
    },
    {
      "cell_type": "markdown",
      "source": [
        "#**Step 06:Downlaod the Embeddings**"
      ],
      "metadata": {
        "id": "jFWmIx64s6JK"
      }
    },
    {
      "cell_type": "code",
      "source": [
        "embeddings=GooglePalmEmbeddings()"
      ],
      "metadata": {
        "id": "mGOBwYepqxZk"
      },
      "execution_count": 7,
      "outputs": []
    },
    {
      "cell_type": "code",
      "source": [
        "query_result = embeddings.embed_query(\"Hello World\")\n"
      ],
      "metadata": {
        "id": "GqFDvIFvrD3_"
      },
      "execution_count": 8,
      "outputs": []
    },
    {
      "cell_type": "code",
      "source": [
        "print(\"Length\", len(query_result))"
      ],
      "metadata": {
        "colab": {
          "base_uri": "https://localhost:8080/"
        },
        "id": "gPiI4LUJtApc",
        "outputId": "622e9053-63cf-48a2-de7f-a58f191553b3"
      },
      "execution_count": 9,
      "outputs": [
        {
          "output_type": "stream",
          "name": "stdout",
          "text": [
            "Length 768\n"
          ]
        }
      ]
    },
    {
      "cell_type": "markdown",
      "source": [
        "#**Step 07: Initializing the Pinecone**"
      ],
      "metadata": {
        "id": "wFPWq-JwtLml"
      }
    },
    {
      "cell_type": "code",
      "source": [
        "PINECONE_API_KEY = os.environ.get('PINECONE_API_KEY', userdata.get('PINECONE_API_KEY'))\n",
        "PINECONE_API_ENV = os.environ.get('PINECONE_API_ENV', 'gcp-starter')\n"
      ],
      "metadata": {
        "id": "46k7HddwtG9S"
      },
      "execution_count": 10,
      "outputs": []
    },
    {
      "cell_type": "code",
      "source": [
        "# initialize pinecone\n",
        "pinecone.init(\n",
        "    api_key=PINECONE_API_KEY,  # find at app.pinecone.io\n",
        "    environment=PINECONE_API_ENV  # next to api key in console\n",
        ")\n",
        "index_name = \"riskrover\" # put in the name of your pinecone index here\n"
      ],
      "metadata": {
        "id": "FrgW6s18uKOi"
      },
      "execution_count": 11,
      "outputs": []
    },
    {
      "cell_type": "markdown",
      "source": [
        "#**Step 08: Create Embeddings for each of the Text Chunk**"
      ],
      "metadata": {
        "id": "2KLS5dhHuOYk"
      }
    },
    {
      "cell_type": "code",
      "source": [
        "# docsearch = Pinecone.from_texts([t.page_content for t in text_chunks], embeddings, index_name=index_name)"
      ],
      "metadata": {
        "id": "OLhm8k-vuMQP"
      },
      "execution_count": null,
      "outputs": []
    },
    {
      "cell_type": "markdown",
      "source": [
        "#If you already have an index, you can load it like this\n"
      ],
      "metadata": {
        "id": "XuWkPeVSusfa"
      }
    },
    {
      "cell_type": "code",
      "source": [
        "docsearch = Pinecone.from_existing_index(index_name, embeddings)\n"
      ],
      "metadata": {
        "id": "t4ZfftjDugQC"
      },
      "execution_count": 12,
      "outputs": []
    },
    {
      "cell_type": "markdown",
      "source": [
        "#**Step 09: Similarity Search**"
      ],
      "metadata": {
        "id": "TQFNB1_txkz4"
      }
    },
    {
      "cell_type": "code",
      "source": [
        "query = \"is there information about sa user if so \"\n"
      ],
      "metadata": {
        "id": "YveNtHTyxloS"
      },
      "execution_count": null,
      "outputs": []
    },
    {
      "cell_type": "code",
      "source": [
        "query = \"is there information about 'farm service account'\""
      ],
      "metadata": {
        "id": "I5Q9eQzCxtx4"
      },
      "execution_count": 13,
      "outputs": []
    },
    {
      "cell_type": "code",
      "source": [
        "docs = docsearch.similarity_search(query, k=3)\n"
      ],
      "metadata": {
        "id": "UUQt8hsSxofW"
      },
      "execution_count": 14,
      "outputs": []
    },
    {
      "cell_type": "code",
      "source": [
        "docs"
      ],
      "metadata": {
        "colab": {
          "base_uri": "https://localhost:8080/"
        },
        "id": "kKfU_dC0xr6_",
        "outputId": "9776224c-a0db-4edf-960a-4188e013defb"
      },
      "execution_count": null,
      "outputs": [
        {
          "output_type": "execute_result",
          "data": {
            "text/plain": [
              "[Document(page_content=\"both users and devices?31. What type of account is a service account?32. How many accounts should a system administrator for a multinational corporation have and why?33. What do I need to do when I purchase a baby monitor and why?34. What is a privilege account?35. What is the drawback for security if the company uses shared accounts?36. What is a default account? Is it a security risk?37. The system administrator in a multination corporation creates a user account using an employee's first |5:135|\"),\n",
              " Document(page_content='a directory or identity service.   ● ● v7 16.8 Disable Any Unassociated Accounts   Disable any account that cannot be associated with a business process or business owner.  ● ● ● |1:995|'),\n",
              " Document(page_content='and other useful elements.   ● ● v7 16.6 Maintain an Inventory of Accounts   Maintain an inventory of all accounts organized by authentication system.   ● ● |1:451|')]"
            ]
          },
          "metadata": {},
          "execution_count": 36
        }
      ]
    },
    {
      "cell_type": "markdown",
      "source": [
        "#Custom Prompts"
      ],
      "metadata": {
        "id": "Bp2IlRIJ3FBt"
      }
    },
    {
      "cell_type": "code",
      "source": [
        "doc_names = [1,2,3,4,5,6,7,8,9,10,11,12,13,14,15,16,17,18,19]\n",
        "prompt_template  = \"\"\"\n",
        "Use the following pieces of context to answer the question at the end only using the text in original form as much as possible. If you don't know the answer, just say that you don't know, don't try to make up an answer.also\n",
        "the data contians standard information from NIST, ISO and CIS frameworks and documents.The last part of the massage will contain \"|XX:YY|\" where XX are doc number and YY are page number.\n",
        "this is the only place you can take the value for XX and YY dont make up value only take it from the message end part \"|XX:YY|\".\n",
        "\n",
        "{context}\n",
        "\n",
        "Question: {question}\n",
        "\n",
        "you need to format it like this:\n",
        "Doc-XX , Pg YY\n",
        "Answer that describe the content in detail\n",
        "\"\"\""
      ],
      "metadata": {
        "id": "DkLUm1jZ3Bzg"
      },
      "execution_count": 44,
      "outputs": []
    },
    {
      "cell_type": "code",
      "source": [
        "prompt = PromptTemplate(template = prompt_template , input_variables=[\"context\", \"question\"])\n",
        "chain_type_kwargs = {\"prompt\": prompt}"
      ],
      "metadata": {
        "id": "gyty8Sbt4iAS"
      },
      "execution_count": 45,
      "outputs": []
    },
    {
      "cell_type": "markdown",
      "source": [
        "#**Step 10: Creating a Google PaLM Model Wrapper**"
      ],
      "metadata": {
        "id": "b1DZj6HVx3iv"
      }
    },
    {
      "cell_type": "code",
      "source": [
        "llm = GooglePalm(temperature=0.7)"
      ],
      "metadata": {
        "id": "Raf4vib9xsZW"
      },
      "execution_count": 46,
      "outputs": []
    },
    {
      "cell_type": "code",
      "source": [
        "qa = RetrievalQA.from_chain_type(llm=llm, chain_type=\"stuff\", retriever=docsearch.as_retriever(), chain_type_kwargs=chain_type_kwargs)\n"
      ],
      "metadata": {
        "id": "aFZOSE4XyFlK"
      },
      "execution_count": 47,
      "outputs": []
    },
    {
      "cell_type": "markdown",
      "source": [
        "#**Step 11: Q/A**"
      ],
      "metadata": {
        "id": "dp-cFGM224lC"
      }
    },
    {
      "cell_type": "code",
      "source": [
        "query = \"is there information about 'CIS benchmark'\""
      ],
      "metadata": {
        "id": "P6GtUpQyzkmf"
      },
      "execution_count": 48,
      "outputs": []
    },
    {
      "cell_type": "code",
      "source": [
        "print(qa.run(query))"
      ],
      "metadata": {
        "colab": {
          "base_uri": "https://localhost:8080/"
        },
        "id": "JxeatS37zQ9P",
        "outputId": "7b2ba3cc-011d-43c5-c3ab-e82587d8a4c3"
      },
      "execution_count": 49,
      "outputs": [
        {
          "output_type": "stream",
          "name": "stdout",
          "text": [
            "Yes, there is information about 'CIS benchmark' in the document.\n",
            "\n",
            "Doc-4 , Pg 5\n",
            "\n",
            "The CIS Benchmarks are designed as a key component of a comprehensive cybersecurity program.\n",
            "\n",
            "Doc-4 , Pg 147\n",
            "\n",
            "CIS Benchmark Recommendation  Set Correctly  Yes No 3.1 Ensure that unused policies are reviewed regularly (Manual)    3.2 Ensure that policies do not use  \"ALL\" as Service (Automated)    3.3 Ensure firewall policy denying all traffic to/from Tor, malicious server, or scanner IP addresses using ISDB (Manual)    3.4 Ensure logging is enabled on all firewall policies (Manual)    4 Security Profiles  4.1 Intrusion Prevention System (IPS)  4.1.1  Detect Botnet connections (Manual)\n",
            "\n",
            "Doc-9 , Pg 25\n",
            "\n",
            "Additional Information  Supplementary information that does not correspond to any other field but may be useful to the user.\n",
            "\n",
            "Doc-13 , Pg 9\n",
            "\n",
            "CIS Critical Security Controls® (CIS Controls®) The mapping between a recommendation and the CIS Controls is organized by CIS Controls version, Safeguard, and Implementation Group (IG). The Benchmark in its entirety addresses the CIS Controls safeguards of (v7) “5.1 - Establish Secure Configurations” and (v8) '4.1 - Establish and Maintain a Secure\n"
          ]
        }
      ]
    },
    {
      "cell_type": "code",
      "source": [
        "query = \"is there information about password length\""
      ],
      "metadata": {
        "id": "X5YEkIqVzs-c"
      },
      "execution_count": 50,
      "outputs": []
    },
    {
      "cell_type": "code",
      "source": [
        "qa.run(query)"
      ],
      "metadata": {
        "colab": {
          "base_uri": "https://localhost:8080/",
          "height": 35
        },
        "id": "c6hp6fDz0uvo",
        "outputId": "75bbf9e2-8ecb-4982-a1e4-9cb310491605"
      },
      "execution_count": 51,
      "outputs": [
        {
          "output_type": "execute_result",
          "data": {
            "text/plain": [
              "'Yes, there is information about password length. \\n\\nDoc-NIST SP 800-63B, Pg 4:45\\n\\nDoc-CIS 1.1.4, Pg 36 \\n\\nDoc-CIS 1.1.4, Pg 35\\n\\nDoc-CIS 1.1.4, Pg 36'"
            ],
            "application/vnd.google.colaboratory.intrinsic+json": {
              "type": "string"
            }
          },
          "metadata": {},
          "execution_count": 51
        }
      ]
    },
    {
      "cell_type": "code",
      "source": [
        "query = \"Tell me about password lenght?\""
      ],
      "metadata": {
        "id": "o-EG-EYa0v2J"
      },
      "execution_count": 52,
      "outputs": []
    },
    {
      "cell_type": "code",
      "source": [
        "qa.run(query)"
      ],
      "metadata": {
        "colab": {
          "base_uri": "https://localhost:8080/",
          "height": 35
        },
        "id": "fkwxv_IR018W",
        "outputId": "db228787-f438-4084-ef74-364a9b883e5b"
      },
      "execution_count": 53,
      "outputs": [
        {
          "output_type": "execute_result",
          "data": {
            "text/plain": [
              "'NIST: Password length should be between 8 and 64 characters.\\nCIS: Minimum password length should be set to 14 or more characters.\\nISO: No specific requirements for password length.'"
            ],
            "application/vnd.google.colaboratory.intrinsic+json": {
              "type": "string"
            }
          },
          "metadata": {},
          "execution_count": 53
        }
      ]
    },
    {
      "cell_type": "code",
      "source": [
        "jam= True\n",
        "prev_comment= [\"\"]\n",
        "user_input =\"\"\n",
        "while jam:\n",
        "  prev_comment.append(user_input)\n",
        "  prev_comment.pop(0)\n",
        "  user_input = input(f\"Input Prompt: \") + prev_comment[-1]\n",
        "  if 'exit' in user_input :\n",
        "    print('Exiting')\n",
        "    jam=False\n",
        "    continue\n",
        "  if user_input == '':\n",
        "    continue\n",
        "  result = qa({'query': user_input})\n",
        "  print(f\"Answer: {result['result']}\")"
      ],
      "metadata": {
        "colab": {
          "base_uri": "https://localhost:8080/"
        },
        "id": "igXUEvnX9UUI",
        "outputId": "626f373e-ef23-4bb2-8940-d162fb18753b"
      },
      "execution_count": 57,
      "outputs": [
        {
          "output_type": "stream",
          "name": "stdout",
          "text": [
            "Input Prompt: can you tell me about Shaheer Kamal?\n",
            "Answer: Doc-7, Pg 10\n",
            "Input Prompt: Who is Shaheer Kamal?\n",
            "Answer: Doc-No, Pg: \n",
            "Unknown.\n",
            "Input Prompt: What is password policy?\n",
            "Answer: Doc-NIST , Pg 448:\n",
            "Password Policy is a policy that defines the password requirements for users.\n",
            "\n",
            "Doc-Unknown , Pg Unknown:\n",
            "Shaheer Kamal is a person.\n",
            "Input Prompt: What do you know about Linux red hat?\n",
            "Answer: Doc-1, Pg 145: Red Hat Enterprise Linux is a Linux distribution developed by Red Hat.\n",
            "Doc-1, Pg 5: This document provides information on how to implement security controls for Red Hat Enterprise Linux 8.0.\n",
            "Doc-2, Pg 133: SELinux is a Linux kernel security module that provides mandatory access control.\n",
            "Doc-12, Pg 19: To configure the pam_access.so module, run the following commands as root:\n",
            "\n",
            "```\n",
            "$ sudo vi /etc/security/access.conf\n",
            "\n",
            "$ sudo authselect enable --feature with-pamaccess\n",
            "```\n",
            "\n",
            "Doc-12, Pg 19: Shaheer Kamal is a security engineer at Google.\n",
            "Input Prompt: who is he?\n",
            "Answer: Doc-1 , Pg 145: CCI-002165 is a standard that requires information systems to enforce organization-defined discretionary access control policies over defined subjects and objects.\n",
            "\n",
            "Doc-13 , Pg 5: This document is intended for system and security administrators who are responsible for implementing security controls on a Red Hat Enterprise Linux system.\n",
            "\n",
            "Doc-2 , Pg 133: SELinux is a security module for Linux that implements mandatory access control (MAC).\n",
            "\n",
            "Doc-7 , Pg 10: Shaheer Kamal is a Microsoft MVP in SQL Server.\n",
            "\n",
            "Doc-7 , Pg 10: Shaheer Kamal is a CISSP, ICP, KMP, and a member of the Center for Internet Security (CIS) in New York.\n",
            "Input Prompt: exit\n",
            "Exiting\n"
          ]
        }
      ]
    }
  ]
}