{
  "nbformat": 4,
  "nbformat_minor": 0,
  "metadata": {
    "colab": {
      "provenance": [],
      "gpuType": "T4"
    },
    "kernelspec": {
      "name": "python3",
      "display_name": "Python 3"
    },
    "language_info": {
      "name": "python"
    },
    "accelerator": "GPU"
  },
  "cells": [
    {
      "cell_type": "markdown",
      "source": [
        "#**SSF Document analyzer using  PaLM 2 + Pinecone + LangChain**\n"
      ],
      "metadata": {
        "id": "0_mTHIbhmwu3"
      }
    },
    {
      "cell_type": "markdown",
      "source": [
        "---------------------------------------------------------------------------\n",
        "## *Limit for api*\n",
        "\n",
        "- Base_model:textembedding-gecko requests per minute\t600\n",
        "- Ase_model:chat-bison requests per minute\t60\n",
        "- The API accepts a maximum of 3,072 input tokens and outputs 768-dimensional vector embeddings\n",
        "- Max vector dimensionality is 20,000.\n",
        "----------------------------------------------------------------------------"
      ],
      "metadata": {
        "id": "jvF26yl48loJ"
      }
    },
    {
      "cell_type": "markdown",
      "source": [
        "#**Step 01: Install All the Required Packages**"
      ],
      "metadata": {
        "id": "7fwtAZA6nBiX"
      }
    },
    {
      "cell_type": "code",
      "execution_count": 7,
      "metadata": {
        "colab": {
          "base_uri": "https://localhost:8080/"
        },
        "id": "rKDXPESimGvl",
        "outputId": "bbd1e524-a7df-4bc7-e840-b01763277569"
      },
      "outputs": [
        {
          "output_type": "stream",
          "name": "stdout",
          "text": [
            "Requirement already satisfied: langchain in /usr/local/lib/python3.10/dist-packages (0.0.335)\n",
            "Requirement already satisfied: PyYAML>=5.3 in /usr/local/lib/python3.10/dist-packages (from langchain) (6.0.1)\n",
            "Requirement already satisfied: SQLAlchemy<3,>=1.4 in /usr/local/lib/python3.10/dist-packages (from langchain) (2.0.23)\n",
            "Requirement already satisfied: aiohttp<4.0.0,>=3.8.3 in /usr/local/lib/python3.10/dist-packages (from langchain) (3.8.6)\n",
            "Requirement already satisfied: anyio<4.0 in /usr/local/lib/python3.10/dist-packages (from langchain) (3.7.1)\n",
            "Requirement already satisfied: async-timeout<5.0.0,>=4.0.0 in /usr/local/lib/python3.10/dist-packages (from langchain) (4.0.3)\n",
            "Requirement already satisfied: dataclasses-json<0.7,>=0.5.7 in /usr/local/lib/python3.10/dist-packages (from langchain) (0.6.2)\n",
            "Requirement already satisfied: jsonpatch<2.0,>=1.33 in /usr/local/lib/python3.10/dist-packages (from langchain) (1.33)\n",
            "Requirement already satisfied: langsmith<0.1.0,>=0.0.63 in /usr/local/lib/python3.10/dist-packages (from langchain) (0.0.64)\n",
            "Requirement already satisfied: numpy<2,>=1 in /usr/local/lib/python3.10/dist-packages (from langchain) (1.23.5)\n",
            "Requirement already satisfied: pydantic<3,>=1 in /usr/local/lib/python3.10/dist-packages (from langchain) (1.10.13)\n",
            "Requirement already satisfied: requests<3,>=2 in /usr/local/lib/python3.10/dist-packages (from langchain) (2.31.0)\n",
            "Requirement already satisfied: tenacity<9.0.0,>=8.1.0 in /usr/local/lib/python3.10/dist-packages (from langchain) (8.2.3)\n",
            "Requirement already satisfied: attrs>=17.3.0 in /usr/local/lib/python3.10/dist-packages (from aiohttp<4.0.0,>=3.8.3->langchain) (23.1.0)\n",
            "Requirement already satisfied: charset-normalizer<4.0,>=2.0 in /usr/local/lib/python3.10/dist-packages (from aiohttp<4.0.0,>=3.8.3->langchain) (3.3.2)\n",
            "Requirement already satisfied: multidict<7.0,>=4.5 in /usr/local/lib/python3.10/dist-packages (from aiohttp<4.0.0,>=3.8.3->langchain) (6.0.4)\n",
            "Requirement already satisfied: yarl<2.0,>=1.0 in /usr/local/lib/python3.10/dist-packages (from aiohttp<4.0.0,>=3.8.3->langchain) (1.9.2)\n",
            "Requirement already satisfied: frozenlist>=1.1.1 in /usr/local/lib/python3.10/dist-packages (from aiohttp<4.0.0,>=3.8.3->langchain) (1.4.0)\n",
            "Requirement already satisfied: aiosignal>=1.1.2 in /usr/local/lib/python3.10/dist-packages (from aiohttp<4.0.0,>=3.8.3->langchain) (1.3.1)\n",
            "Requirement already satisfied: idna>=2.8 in /usr/local/lib/python3.10/dist-packages (from anyio<4.0->langchain) (3.4)\n",
            "Requirement already satisfied: sniffio>=1.1 in /usr/local/lib/python3.10/dist-packages (from anyio<4.0->langchain) (1.3.0)\n",
            "Requirement already satisfied: exceptiongroup in /usr/local/lib/python3.10/dist-packages (from anyio<4.0->langchain) (1.1.3)\n",
            "Requirement already satisfied: marshmallow<4.0.0,>=3.18.0 in /usr/local/lib/python3.10/dist-packages (from dataclasses-json<0.7,>=0.5.7->langchain) (3.20.1)\n",
            "Requirement already satisfied: typing-inspect<1,>=0.4.0 in /usr/local/lib/python3.10/dist-packages (from dataclasses-json<0.7,>=0.5.7->langchain) (0.9.0)\n",
            "Requirement already satisfied: jsonpointer>=1.9 in /usr/local/lib/python3.10/dist-packages (from jsonpatch<2.0,>=1.33->langchain) (2.4)\n",
            "Requirement already satisfied: typing-extensions>=4.2.0 in /usr/local/lib/python3.10/dist-packages (from pydantic<3,>=1->langchain) (4.5.0)\n",
            "Requirement already satisfied: urllib3<3,>=1.21.1 in /usr/local/lib/python3.10/dist-packages (from requests<3,>=2->langchain) (2.0.7)\n",
            "Requirement already satisfied: certifi>=2017.4.17 in /usr/local/lib/python3.10/dist-packages (from requests<3,>=2->langchain) (2023.7.22)\n",
            "Requirement already satisfied: greenlet!=0.4.17 in /usr/local/lib/python3.10/dist-packages (from SQLAlchemy<3,>=1.4->langchain) (3.0.1)\n",
            "Requirement already satisfied: packaging>=17.0 in /usr/local/lib/python3.10/dist-packages (from marshmallow<4.0.0,>=3.18.0->dataclasses-json<0.7,>=0.5.7->langchain) (23.2)\n",
            "Requirement already satisfied: mypy-extensions>=0.3.0 in /usr/local/lib/python3.10/dist-packages (from typing-inspect<1,>=0.4.0->dataclasses-json<0.7,>=0.5.7->langchain) (1.0.0)\n",
            "Requirement already satisfied: pinecone-client in /usr/local/lib/python3.10/dist-packages (2.2.4)\n",
            "Requirement already satisfied: requests>=2.19.0 in /usr/local/lib/python3.10/dist-packages (from pinecone-client) (2.31.0)\n",
            "Requirement already satisfied: pyyaml>=5.4 in /usr/local/lib/python3.10/dist-packages (from pinecone-client) (6.0.1)\n",
            "Requirement already satisfied: loguru>=0.5.0 in /usr/local/lib/python3.10/dist-packages (from pinecone-client) (0.7.2)\n",
            "Requirement already satisfied: typing-extensions>=3.7.4 in /usr/local/lib/python3.10/dist-packages (from pinecone-client) (4.5.0)\n",
            "Requirement already satisfied: dnspython>=2.0.0 in /usr/local/lib/python3.10/dist-packages (from pinecone-client) (2.4.2)\n",
            "Requirement already satisfied: python-dateutil>=2.5.3 in /usr/local/lib/python3.10/dist-packages (from pinecone-client) (2.8.2)\n",
            "Requirement already satisfied: urllib3>=1.21.1 in /usr/local/lib/python3.10/dist-packages (from pinecone-client) (2.0.7)\n",
            "Requirement already satisfied: tqdm>=4.64.1 in /usr/local/lib/python3.10/dist-packages (from pinecone-client) (4.66.1)\n",
            "Requirement already satisfied: numpy>=1.22.0 in /usr/local/lib/python3.10/dist-packages (from pinecone-client) (1.23.5)\n",
            "Requirement already satisfied: six>=1.5 in /usr/local/lib/python3.10/dist-packages (from python-dateutil>=2.5.3->pinecone-client) (1.16.0)\n",
            "Requirement already satisfied: charset-normalizer<4,>=2 in /usr/local/lib/python3.10/dist-packages (from requests>=2.19.0->pinecone-client) (3.3.2)\n",
            "Requirement already satisfied: idna<4,>=2.5 in /usr/local/lib/python3.10/dist-packages (from requests>=2.19.0->pinecone-client) (3.4)\n",
            "Requirement already satisfied: certifi>=2017.4.17 in /usr/local/lib/python3.10/dist-packages (from requests>=2.19.0->pinecone-client) (2023.7.22)\n",
            "Requirement already satisfied: pypdf in /usr/local/lib/python3.10/dist-packages (3.17.1)\n"
          ]
        }
      ],
      "source": [
        "!pip install langchain\n",
        "!pip install pinecone-client\n",
        "!pip install pypdf\n",
        "!pip install -q google-generativeai"
      ]
    },
    {
      "cell_type": "markdown",
      "source": [
        "#**Step 02: Import All the Required Libraries**"
      ],
      "metadata": {
        "id": "QPMpiAoxoDKg"
      }
    },
    {
      "cell_type": "code",
      "source": [
        "from langchain.document_loaders import PyPDFDirectoryLoader\n",
        "from langchain.text_splitter import RecursiveCharacterTextSplitter\n",
        "from langchain.embeddings import GooglePalmEmbeddings\n",
        "from langchain.llms import GooglePalm\n",
        "from langchain.vectorstores import Pinecone\n",
        "from langchain.chains import RetrievalQA\n",
        "from langchain.prompts import PromptTemplate\n",
        "import pinecone\n",
        "import os\n",
        "import sys\n",
        "from google.colab import userdata\n"
      ],
      "metadata": {
        "id": "b4V2rnsln538"
      },
      "execution_count": 8,
      "outputs": []
    },
    {
      "cell_type": "markdown",
      "source": [
        "#**Step 03: Load the PDF Files**"
      ],
      "metadata": {
        "id": "btViLRdvpht6"
      }
    },
    {
      "cell_type": "code",
      "source": [
        "!mkdir pdfs"
      ],
      "metadata": {
        "id": "zrXjdVWPpY6I",
        "colab": {
          "base_uri": "https://localhost:8080/"
        },
        "outputId": "db7607ef-cde7-4dc1-fa3a-e8e6593b9913"
      },
      "execution_count": 9,
      "outputs": [
        {
          "output_type": "stream",
          "name": "stdout",
          "text": [
            "mkdir: cannot create directory ‘pdfs’: File exists\n"
          ]
        }
      ]
    },
    {
      "cell_type": "markdown",
      "source": [
        "add all pdf files to 'pdfs' directory before procedding"
      ],
      "metadata": {
        "id": "DrV1YtT9-I5z"
      }
    },
    {
      "cell_type": "markdown",
      "source": [
        "#**Step 04: Extract the Text from the PDF's**"
      ],
      "metadata": {
        "id": "DxKDyZwUpuwI"
      }
    },
    {
      "cell_type": "code",
      "source": [
        "loader = PyPDFDirectoryLoader(\"pdfs\")\n",
        "data = loader.load()\n",
        "for index, document_info in enumerate(data):\n",
        "    data[index].page_content= data[index].page_content.replace('\\n', '')  # removing all newline characters\n"
      ],
      "metadata": {
        "id": "1p9KPyfPpoGA"
      },
      "execution_count": 10,
      "outputs": []
    },
    {
      "cell_type": "code",
      "source": [
        "print(data[2].page_content)\n",
        "print(data[2].metadata)\n"
      ],
      "metadata": {
        "colab": {
          "base_uri": "https://localhost:8080/"
        },
        "id": "hqMAX9i1qCtP",
        "outputId": "02c7dac2-4a39-460a-dbd6-870e5240eadc"
      },
      "execution_count": 11,
      "outputs": [
        {
          "output_type": "stream",
          "name": "stdout",
          "text": [
            " Page 2 Table of Contents  Terms of Use  ................................ ................................ ................................ .................  1 Table of Contents  ................................ ................................ ................................ ..........  2 Overview  ................................ ................................ ................................ ......................  24 Intended Audience  ................................ ................................ ................................ ................ 24 Consensus Guidance  ................................ ................................ ................................ ........... 25 Typographical Conventions  ................................ ................................ ................................ .26 Recommendation Definitions  ................................ ................................ .....................  27 Title ................................ ................................ ................................ ................................ ........ 27 Assessment Status  ................................ ................................ ................................ ............... 27 Automated  ................................ ................................ ................................ ................................ ............  27 Manual  ................................ ................................ ................................ ................................ ...................  27 Profile  ................................ ................................ ................................ ................................ ....27 Description  ................................ ................................ ................................ ............................ 27 Rationale Statement  ................................ ................................ ................................ ............. 27 Impact Statement  ................................ ................................ ................................ .................. 28 Audit Procedure  ................................ ................................ ................................ .................... 28 Remediation Procedure  ................................ ................................ ................................ ........ 28 Default Value  ................................ ................................ ................................ ......................... 28 References  ................................ ................................ ................................ ............................ 28 CIS Critical Security Controls® (CIS Controls®) ................................ ................................ ..28 Additional Information ................................ ................................ ................................ .......... 28 Profile Definitions  ................................ ................................ ................................ ................. 29 Acknowledgements  ................................ ................................ ................................ .............. 32 Recommendations  ................................ ................................ ................................ ...... 33 1 Account Policies  ................................ ................................ ................................ ................ 33 1.1 Password Policy  ................................ ................................ ................................ ............................  33 1.1.1  (L1) Ensure 'Enforce password history' is set to '24 or more password(s)' (Automated)  ....................  34 1.1.2 (L1) Ensure 'Maximum password age' is set to '365 or fewer days, but not 0' (Automated)  ...............  37 1.1.3 (L1) Ensure 'Minimum passwo rd age' is set to '1 or more day(s)' (Automated)  ................................ .. 39 1.1.4 (L1) Ensure 'Minimum password length' is set to '14 or more character(s )' (Automated)  ...................  41 1.1.5 (L1) Ensure 'Password must meet complexity requirements' is set to 'Enabled' (Automated)  ...........  44 1.1.6 (L1) Ensure 'Relax minimum password length limits' is set to 'Enabled' (Automated)  ........................  47 1.1.7 (L1) Ensure 'Store passwords using reversible encryption' is set to 'Disabled' (Automated)  ..............  49 1.2 Account Lockout Policy  ................................ ................................ ................................ ................  51 1.2.1 (L1) Ensure 'Account lockout duration' is set to '15 or more minute(s)' (Automated)  .........................  52 1.2.2 (L1) Ensure 'Account lockout threshold' is set to '5 or fewer invalid logon attempt(s), but not 0' (Automated)  ................................ ................................ ................................ ................................ ................  54 \n",
            "{'source': 'pdfs/CIS_Microsoft_Windows_10_Enterprise_Benchmark_v2.0.0.pdf', 'page': 2}\n"
          ]
        }
      ]
    },
    {
      "cell_type": "markdown",
      "source": [
        "#**Step 05: Split the Extracted Data into Text Chunks**"
      ],
      "metadata": {
        "id": "bhAHycYuqRDB"
      }
    },
    {
      "cell_type": "code",
      "source": [
        "text_splitter = RecursiveCharacterTextSplitter(chunk_size=500, chunk_overlap=20)"
      ],
      "metadata": {
        "id": "PObfNUEcqGJe"
      },
      "execution_count": 12,
      "outputs": []
    },
    {
      "cell_type": "code",
      "source": [
        "text_chunks = text_splitter.split_documents(data)"
      ],
      "metadata": {
        "id": "mE5gbklRqg-X"
      },
      "execution_count": 13,
      "outputs": []
    },
    {
      "cell_type": "code",
      "source": [
        "len(text_chunks)"
      ],
      "metadata": {
        "colab": {
          "base_uri": "https://localhost:8080/"
        },
        "id": "mVq2Eh_NjSBy",
        "outputId": "5b6751b7-2661-4421-bccb-ff2fcf2d89a1"
      },
      "execution_count": 14,
      "outputs": [
        {
          "output_type": "execute_result",
          "data": {
            "text/plain": [
              "7827"
            ]
          },
          "metadata": {},
          "execution_count": 14
        }
      ]
    },
    {
      "cell_type": "markdown",
      "source": [
        "# Making a list of all documents and adding encoded Pg number to every chunk"
      ],
      "metadata": {
        "id": "zFrW5PVedYt3"
      }
    },
    {
      "cell_type": "code",
      "source": [
        "\n",
        "lst = []\n",
        "count = 0\n",
        "for index, document_info in enumerate(text_chunks):\n",
        "  value = text_chunks[index].metadata['source']  # name of the document\n",
        "  if (value in lst): # if already present we just need to get the doc number\n",
        "    count = lst.index(value)\n",
        "  else: # else we need to add the document name to the list and return the doc number to be embedded\n",
        "      lst.append(value)\n",
        "      count=len(lst)-1\n",
        "\n",
        "  text_chunks[index].page_content= text_chunks[index].page_content + \" |\" + str(count+1) + \":\" + str(text_chunks[index].metadata['page'])+ \"|\"\n",
        "\n",
        "\n",
        "print(lst)\n"
      ],
      "metadata": {
        "colab": {
          "base_uri": "https://localhost:8080/"
        },
        "id": "40lbTG73qlWK",
        "outputId": "d763697a-aa73-4419-b910-570841940e43"
      },
      "execution_count": 15,
      "outputs": [
        {
          "output_type": "stream",
          "name": "stdout",
          "text": [
            "['pdfs/CIS_Microsoft_Windows_10_Enterprise_Benchmark_v2.0.0.pdf', 'pdfs/C5-Annex.pdf', 'pdfs/nistspecialpublication800-30r1.pdf', 'pdfs/CIS_Google_Android_Benchmark_v1.4.0.pdf', 'pdfs/CompTIA Security Plus SY0-601 Certification (motakhasessho.ir).pdf', 'pdfs/- International Standard ISO 31000_2018-02 (2018).pdf', 'pdfs/27005 2022.pdf']\n"
          ]
        }
      ]
    },
    {
      "cell_type": "code",
      "source": [
        "text_chunks[101]"
      ],
      "metadata": {
        "colab": {
          "base_uri": "https://localhost:8080/"
        },
        "id": "NuQE-Eh2qqjo",
        "outputId": "191f6bc5-1595-44f6-c8f8-fe283869e7b6"
      },
      "execution_count": 16,
      "outputs": [
        {
          "output_type": "execute_result",
          "data": {
            "text/plain": [
              "Document(page_content=\"Page 9 17.2.1 (L1) Ensure 'Audit Application Group Management' is set to 'Success and Failure' (Automated)  .. 437 17.2.2 (L1) Ensure 'Audit Security Group Management' is set to include 'Success' (Automated)  .............  439 17.2.3 (L1) Ensure 'Audit User Ac count Management' is set to 'Success and Failure' (Automated)  .........  441 17.3 Detailed Tracking  ................................ ................................ ................................ .......................  444 17.3.1 |1:9|\", metadata={'source': 'pdfs/CIS_Microsoft_Windows_10_Enterprise_Benchmark_v2.0.0.pdf', 'page': 9})"
            ]
          },
          "metadata": {},
          "execution_count": 16
        }
      ]
    },
    {
      "cell_type": "code",
      "source": [
        "text_chunks[100]"
      ],
      "metadata": {
        "colab": {
          "base_uri": "https://localhost:8080/"
        },
        "id": "MtNTXNio5LuD",
        "outputId": "f2c89ad0-cdcc-42b9-d141-36c2b9bb94a0"
      },
      "execution_count": 17,
      "outputs": [
        {
          "output_type": "execute_result",
          "data": {
            "text/plain": [
              "Document(page_content=\"17.1.1 (L1) Ensure 'Audit Credential Validation' is set to 'Success and Failure' (Automated)  ...................  434 17.2 Account Management  ................................ ................................ ................................ ...............  436 |1:8|\", metadata={'source': 'pdfs/CIS_Microsoft_Windows_10_Enterprise_Benchmark_v2.0.0.pdf', 'page': 8})"
            ]
          },
          "metadata": {},
          "execution_count": 17
        }
      ]
    },
    {
      "cell_type": "code",
      "source": [
        "os.environ['GOOGLE_API_KEY'] = userdata.get('GOOGLE_PALM_API_KEY') # add ur api key \"asdasdsafdsgsfgsd\""
      ],
      "metadata": {
        "id": "TCZSH6OYsW6A"
      },
      "execution_count": 24,
      "outputs": []
    },
    {
      "cell_type": "markdown",
      "source": [
        "#**Step 06:Downlaod the Embeddings**"
      ],
      "metadata": {
        "id": "jFWmIx64s6JK"
      }
    },
    {
      "cell_type": "code",
      "source": [
        "embeddings=GooglePalmEmbeddings()"
      ],
      "metadata": {
        "id": "mGOBwYepqxZk"
      },
      "execution_count": 25,
      "outputs": []
    },
    {
      "cell_type": "code",
      "source": [
        "query_result = embeddings.embed_query(\"Hello World\")\n"
      ],
      "metadata": {
        "id": "GqFDvIFvrD3_"
      },
      "execution_count": 26,
      "outputs": []
    },
    {
      "cell_type": "code",
      "source": [
        "print(\"Length\", len(query_result))"
      ],
      "metadata": {
        "colab": {
          "base_uri": "https://localhost:8080/"
        },
        "id": "gPiI4LUJtApc",
        "outputId": "8b1a6296-27ee-4381-ca4e-d54e6f8f0ce1"
      },
      "execution_count": 27,
      "outputs": [
        {
          "output_type": "stream",
          "name": "stdout",
          "text": [
            "Length 768\n"
          ]
        }
      ]
    },
    {
      "cell_type": "markdown",
      "source": [
        "#**Step 07: Initializing the Pinecone**"
      ],
      "metadata": {
        "id": "wFPWq-JwtLml"
      }
    },
    {
      "cell_type": "code",
      "source": [
        "PINECONE_API_KEY = os.environ.get('PINECONE_API_KEY', userdata.get('PINECONE_API_KEY'))\n",
        "PINECONE_API_ENV = os.environ.get('PINECONE_API_ENV', 'gcp-starter')\n"
      ],
      "metadata": {
        "id": "46k7HddwtG9S"
      },
      "execution_count": 28,
      "outputs": []
    },
    {
      "cell_type": "code",
      "source": [
        "# initialize pinecone\n",
        "pinecone.init(\n",
        "    api_key=PINECONE_API_KEY,  # find at app.pinecone.io\n",
        "    environment=PINECONE_API_ENV  # next to api key in console\n",
        ")\n",
        "index_name = \"grcbot\" # put in the name of your pinecone index here\n"
      ],
      "metadata": {
        "id": "FrgW6s18uKOi"
      },
      "execution_count": 31,
      "outputs": []
    },
    {
      "cell_type": "markdown",
      "source": [
        "#**Step 08: Create Embeddings for each of the Text Chunk**"
      ],
      "metadata": {
        "id": "2KLS5dhHuOYk"
      }
    },
    {
      "cell_type": "code",
      "source": [
        "docsearch = Pinecone.from_texts([t.page_content for t in text_chunks], embeddings, index_name=index_name)"
      ],
      "metadata": {
        "id": "OLhm8k-vuMQP"
      },
      "execution_count": 32,
      "outputs": []
    },
    {
      "cell_type": "markdown",
      "source": [
        "#If you already have an index, you can load it like this\n"
      ],
      "metadata": {
        "id": "XuWkPeVSusfa"
      }
    },
    {
      "cell_type": "code",
      "source": [
        "#docsearch = Pinecone.from_existing_index(index_name, embeddings)\n"
      ],
      "metadata": {
        "id": "t4ZfftjDugQC"
      },
      "execution_count": null,
      "outputs": []
    },
    {
      "cell_type": "markdown",
      "source": [
        "#**Step 09: Similarity Search**"
      ],
      "metadata": {
        "id": "TQFNB1_txkz4"
      }
    },
    {
      "cell_type": "code",
      "source": [
        "query = \"is there information about sa user if so \"\n"
      ],
      "metadata": {
        "id": "YveNtHTyxloS"
      },
      "execution_count": 33,
      "outputs": []
    },
    {
      "cell_type": "code",
      "source": [
        "query = \"is there information about 'farm service account'\""
      ],
      "metadata": {
        "id": "I5Q9eQzCxtx4"
      },
      "execution_count": 34,
      "outputs": []
    },
    {
      "cell_type": "code",
      "source": [
        "docs = docsearch.similarity_search(query, k=3)\n"
      ],
      "metadata": {
        "id": "UUQt8hsSxofW"
      },
      "execution_count": 35,
      "outputs": []
    },
    {
      "cell_type": "code",
      "source": [
        "docs"
      ],
      "metadata": {
        "colab": {
          "base_uri": "https://localhost:8080/"
        },
        "id": "kKfU_dC0xr6_",
        "outputId": "9776224c-a0db-4edf-960a-4188e013defb"
      },
      "execution_count": 36,
      "outputs": [
        {
          "output_type": "execute_result",
          "data": {
            "text/plain": [
              "[Document(page_content=\"both users and devices?31. What type of account is a service account?32. How many accounts should a system administrator for a multinational corporation have and why?33. What do I need to do when I purchase a baby monitor and why?34. What is a privilege account?35. What is the drawback for security if the company uses shared accounts?36. What is a default account? Is it a security risk?37. The system administrator in a multination corporation creates a user account using an employee's first |5:135|\"),\n",
              " Document(page_content='a directory or identity service.   ● ● v7 16.8 Disable Any Unassociated Accounts   Disable any account that cannot be associated with a business process or business owner.  ● ● ● |1:995|'),\n",
              " Document(page_content='and other useful elements.   ● ● v7 16.6 Maintain an Inventory of Accounts   Maintain an inventory of all accounts organized by authentication system.   ● ● |1:451|')]"
            ]
          },
          "metadata": {},
          "execution_count": 36
        }
      ]
    },
    {
      "cell_type": "markdown",
      "source": [
        "#Custom Prompts"
      ],
      "metadata": {
        "id": "Bp2IlRIJ3FBt"
      }
    },
    {
      "cell_type": "code",
      "source": [
        "prompt_template  = \"\"\"\n",
        "Use the following pieces of context to answer the question at the end only using the text in original form as much as possible. If you don't know the answer, just say that you don't know, don't try to make up an answer.also\n",
        "it is a extract of a document that describes the vendors policy for security. the last part of the massage will contain \"|XX:YY|\" where XX are doc number and YY are page number.\n",
        "this is the only place you can take the value for XX and YY dont make up value only take it from the message end part \"|XX:YY|\".\n",
        "\n",
        "{context}\n",
        "\n",
        "Question: {question}\n",
        "\n",
        "you need to format it like this:\n",
        "Doc-XX , Pg YY\n",
        "Answer that descibe the content in detail\n",
        "\"\"\""
      ],
      "metadata": {
        "id": "DkLUm1jZ3Bzg"
      },
      "execution_count": 37,
      "outputs": []
    },
    {
      "cell_type": "code",
      "source": [
        "prompt = PromptTemplate(template = prompt_template , input_variables=[\"context\", \"question\"])\n",
        "chain_type_kwargs = {\"prompt\": prompt}"
      ],
      "metadata": {
        "id": "gyty8Sbt4iAS"
      },
      "execution_count": 38,
      "outputs": []
    },
    {
      "cell_type": "markdown",
      "source": [
        "#**Step 10: Creating a Google PaLM Model Wrapper**"
      ],
      "metadata": {
        "id": "b1DZj6HVx3iv"
      }
    },
    {
      "cell_type": "code",
      "source": [
        "llm = GooglePalm(temperature=0.7)"
      ],
      "metadata": {
        "id": "Raf4vib9xsZW"
      },
      "execution_count": 39,
      "outputs": []
    },
    {
      "cell_type": "code",
      "source": [
        "qa = RetrievalQA.from_chain_type(llm=llm, chain_type=\"stuff\", retriever=docsearch.as_retriever(), chain_type_kwargs=chain_type_kwargs)\n"
      ],
      "metadata": {
        "id": "aFZOSE4XyFlK"
      },
      "execution_count": 40,
      "outputs": []
    },
    {
      "cell_type": "markdown",
      "source": [
        "#**Step 11: Q/A**"
      ],
      "metadata": {
        "id": "dp-cFGM224lC"
      }
    },
    {
      "cell_type": "code",
      "source": [
        "query = \"is there information about 'CIS benchmark'\""
      ],
      "metadata": {
        "id": "P6GtUpQyzkmf"
      },
      "execution_count": 43,
      "outputs": []
    },
    {
      "cell_type": "code",
      "source": [
        "print(qa.run(query))"
      ],
      "metadata": {
        "colab": {
          "base_uri": "https://localhost:8080/"
        },
        "id": "JxeatS37zQ9P",
        "outputId": "a52529b0-5336-47aa-abb2-1df4270559bc"
      },
      "execution_count": 44,
      "outputs": [
        {
          "output_type": "stream",
          "name": "stdout",
          "text": [
            "Yes, there is information about 'CIS benchmark'.\n",
            "\n",
            "Doc-1, Pg 24: \n",
            "\"All CIS Benchmarks focus on technical configuration settings used to maintain and/or increase the security of the addressed technology, and they should be used in conjunction with other essential cyber hygiene tasks like:  • Monitoring the base operating system for vulnerabilities and quickly updating with the latest security patches  • Monitoring applications and libraries for vulnerabilities and quickly updating with the latest security patches  In the end, the CIS\"\n",
            "\n",
            "Doc-1, Pg 1293: \n",
            "\"CIS Benchmark Recommendation  Set Correctly  Yes No 18.9.40  Service Control Manager Settings  18.9.41  Shutdown  18.9.42  Shutdown Options  18.9.43  Storage Health  18.9.44  Storage Sense  18.9.45  System Restore  18.9.46  Troubleshooting and Diagnostics  18.9.46.1  Application Compatibility Diagnostics  18.9.46.2  Corrupted File Recovery  18.9.46.3  Disk Diagnostic  18.9.46.4  Fault Tolerant Heap  18.9.46.5  Microsoft Support Diagnostic Tool  18.9.46.5.1  (L2) Ensure 'Microsoft S\"\n",
            "\n",
            "Doc-1, Pg 28: \n",
            "\"if known. If not known, either not configured or not defined will be applied.  References  Additional documentation relative to the recommendation.  CIS Critical Security Controls® (CIS Controls®) The mapping between a recommendation and the CIS Controls is organized by CIS Controls version, Safeguard, and Implementation Group (IG). The Benchmark in its entirety addresses the CIS C ontrols safeguards of (v7) “5.1 - Establish Secure Configurations” and (v8) '4.1 - Establish and Maintain a Secure\"\n",
            "\n",
            "Doc-4, Pg 5: \n",
            "\"All CIS Benchmarks focus on technical configuration settings used to maintain and/or increase the security of the addressed technology, and they should be used in conjunction  with other essential cyber hygiene tasks like:   • Monitoring the base operating system for vulnerabilities and quickly updating with the latest s ecurity patches  • Monitoring applications and libraries for vulnerabilities and quickly updating with the latest security patches  In the end, the CIS\"\n"
          ]
        }
      ]
    },
    {
      "cell_type": "code",
      "source": [
        "query = \"is there information about password length\""
      ],
      "metadata": {
        "id": "X5YEkIqVzs-c"
      },
      "execution_count": 55,
      "outputs": []
    },
    {
      "cell_type": "code",
      "source": [
        "qa.run(query)"
      ],
      "metadata": {
        "colab": {
          "base_uri": "https://localhost:8080/",
          "height": 35
        },
        "id": "c6hp6fDz0uvo",
        "outputId": "5a6aa313-4e20-4f46-ef64-38a149e127cb"
      },
      "execution_count": 56,
      "outputs": [
        {
          "output_type": "execute_result",
          "data": {
            "text/plain": [
              "'Doc-1, Pg 41\\n\\nYes, the minimum password length is set to 14 or more characters.|1:41|'"
            ],
            "application/vnd.google.colaboratory.intrinsic+json": {
              "type": "string"
            }
          },
          "metadata": {},
          "execution_count": 56
        }
      ]
    },
    {
      "cell_type": "code",
      "source": [
        "query = \"can you give me the registry location for audit of Make Hidden Markup Visible is set to Enabled\""
      ],
      "metadata": {
        "id": "o-EG-EYa0v2J"
      },
      "execution_count": 47,
      "outputs": []
    },
    {
      "cell_type": "code",
      "source": [
        "qa.run(query)"
      ],
      "metadata": {
        "colab": {
          "base_uri": "https://localhost:8080/",
          "height": 35
        },
        "id": "fkwxv_IR018W",
        "outputId": "ea45d1ef-c146-4a55-f8db-e67268b4c755"
      },
      "execution_count": 48,
      "outputs": [
        {
          "output_type": "execute_result",
          "data": {
            "text/plain": [
              "'The registry location for audit of Make Hidden Markup Visible is set to Enabled is:\\n\\nHKEY_LOCAL_MACHINE\\\\SOFTWARE\\\\Policies\\\\Microsoft\\\\Messenger\\\\Client:CEIP\\n\\n|1:715|'"
            ],
            "application/vnd.google.colaboratory.intrinsic+json": {
              "type": "string"
            }
          },
          "metadata": {},
          "execution_count": 48
        }
      ]
    },
    {
      "cell_type": "code",
      "source": [
        "jam= True\n",
        "prev_comment= [\"\"]\n",
        "user_input =\"\"\n",
        "while jam:\n",
        "  prev_comment.append(user_input)\n",
        "  prev_comment.pop(0)\n",
        "  user_input = input(f\"Input Prompt: \") + prev_comment[-1]\n",
        "  if 'exit' in user_input :\n",
        "    print('Exiting')\n",
        "    jam=False\n",
        "    continue\n",
        "  if user_input == '':\n",
        "    continue\n",
        "  result = qa({'query': user_input})\n",
        "  print(f\"Answer: {result['result']}\")"
      ],
      "metadata": {
        "colab": {
          "base_uri": "https://localhost:8080/",
          "height": 1000
        },
        "id": "igXUEvnX9UUI",
        "outputId": "6a8722d2-b4ef-4855-937d-db0e1b80ef37"
      },
      "execution_count": null,
      "outputs": [
        {
          "output_type": "stream",
          "name": "stdout",
          "text": [
            "Input Prompt: tell me about sql hardening 4.1\n",
            "Answer: Doc-3 , Pg 52 \n",
            "SQL Hardening 4.1: Enable CLR Strict Security\n",
            "\n",
            "To enable CLR Strict Security, run the following commands:\n",
            "\n",
            "```\n",
            "EXEC sp_configure 'show advanced options', 1;\n",
            "RECONFIGURE;\n",
            "EXEC sp_configure 'clr strict security', 1;\n",
            "RECONFIGURE;\n",
            "GO\n",
            "EXEC sp_configure 'show advanced options', 0;\n",
            "RECONFIGURE;\n",
            "```\n",
            "\n",
            "This will enable CLR Strict Security, which will help to protect against malicious code being executed in the database.\n",
            "Input Prompt: how to remediate this \n",
            "Answer: Doc-1, Pg 10\n",
            "\n",
            "To remediate SQL hardening 4.1, the following steps can be taken:\n",
            "\n",
            "1. Review TSQL and application code for SQL Injection.\n",
            "2. Only permit minimally privileged accounts to send user input to the server.\n",
            "3. Minimize the risk of SQL injection attack by using parameterized commands and stored procedures.\n",
            "4. Reject user input containing binary data, escape sequences, and comment characters.\n",
            "Input Prompt: how to harden word 3.2?\n",
            "Answer: Doc-3321, Pg 95 | 6.1 Ensure Database and Application User Input is Sanitized (Manual)\n",
            "\n",
            "To harden Word 3.2, you can follow the following steps:\n",
            "\n",
            "1. Review TSQL and application code for SQL Injection.\n",
            "2. Only permit minimally privileged accounts to send user input to the server.\n",
            "3. Minimize the risk of SQL injection attack by using parameterized commands and stored procedures.\n",
            "4. Reject user input containing binary data, escape sequences, and comment characters.\n",
            "\n",
            "For more information, please refer to the following reference:\n",
            "\n",
            "https://learn.microsoft.com/en-us/sql/relational-databases/security/trustworthy-database-property\n",
            "\n",
            "Doc-3321, Pg 60 | 3.4 Ensure SQL Authentication is not used in contained databases (Automated)\n",
            "\n",
            "To remediate this, you can follow the following steps:\n",
            "\n",
            "1. Disable SQL Authentication for all contained databases.\n",
            "2. Enable Windows Authentication for all contained databases.\n",
            "\n",
            "For more information, please refer to the following reference:\n",
            "\n",
            "https://docs.microsoft.com/en-us/sql/relational-databases/security/contained-databases-overview\n",
            "\n",
            "Input Prompt: exit\n",
            "Answer: Doc-XX , Pg YY \n",
            "Answer:\n",
            "\n",
            "3.2. Harden Word | XX:YY |\n",
            "\n",
            "To harden Word, you can:\n",
            "\n",
            "* Use a strong password to protect the document.\n",
            "* Enable document encryption.\n",
            "* Use a digital signature to verify the authenticity of the document.\n",
            "* Use a watermark to discourage unauthorized copying.\n",
            "* Set permissions on the document to control who can access it.\n",
            "\n",
            "4.1. SQL Hardening | XX:YY |\n",
            "\n",
            "To harden SQL, you can:\n",
            "\n",
            "* Use strong passwords for SQL accounts.\n",
            "* Use role-based access control to restrict users' access to data.\n",
            "* Enable auditing to track user activity.\n",
            "* Use encryption to protect sensitive data.\n",
            "* Use firewalls to protect SQL servers from unauthorized access.\n"
          ]
        },
        {
          "output_type": "error",
          "ename": "KeyboardInterrupt",
          "evalue": "ignored",
          "traceback": [
            "\u001b[0;31m---------------------------------------------------------------------------\u001b[0m",
            "\u001b[0;31mKeyboardInterrupt\u001b[0m                         Traceback (most recent call last)",
            "\u001b[0;32m<ipython-input-189-f83e8199a0b8>\u001b[0m in \u001b[0;36m<cell line: 4>\u001b[0;34m()\u001b[0m\n\u001b[1;32m      5\u001b[0m   \u001b[0mprev_comment\u001b[0m\u001b[0;34m.\u001b[0m\u001b[0mappend\u001b[0m\u001b[0;34m(\u001b[0m\u001b[0muser_input\u001b[0m\u001b[0;34m)\u001b[0m\u001b[0;34m\u001b[0m\u001b[0;34m\u001b[0m\u001b[0m\n\u001b[1;32m      6\u001b[0m   \u001b[0mprev_comment\u001b[0m\u001b[0;34m.\u001b[0m\u001b[0mpop\u001b[0m\u001b[0;34m(\u001b[0m\u001b[0;36m0\u001b[0m\u001b[0;34m)\u001b[0m\u001b[0;34m\u001b[0m\u001b[0;34m\u001b[0m\u001b[0m\n\u001b[0;32m----> 7\u001b[0;31m   \u001b[0muser_input\u001b[0m \u001b[0;34m=\u001b[0m \u001b[0minput\u001b[0m\u001b[0;34m(\u001b[0m\u001b[0;34mf\"Input Prompt: \"\u001b[0m\u001b[0;34m)\u001b[0m \u001b[0;34m+\u001b[0m \u001b[0mprev_comment\u001b[0m\u001b[0;34m[\u001b[0m\u001b[0;34m-\u001b[0m\u001b[0;36m1\u001b[0m\u001b[0;34m]\u001b[0m\u001b[0;34m\u001b[0m\u001b[0;34m\u001b[0m\u001b[0m\n\u001b[0m\u001b[1;32m      8\u001b[0m   \u001b[0;32mif\u001b[0m \u001b[0muser_input\u001b[0m \u001b[0;34m==\u001b[0m \u001b[0;34m'exit'\u001b[0m\u001b[0;34m:\u001b[0m\u001b[0;34m\u001b[0m\u001b[0;34m\u001b[0m\u001b[0m\n\u001b[1;32m      9\u001b[0m     \u001b[0mprint\u001b[0m\u001b[0;34m(\u001b[0m\u001b[0;34m'Exiting'\u001b[0m\u001b[0;34m)\u001b[0m\u001b[0;34m\u001b[0m\u001b[0;34m\u001b[0m\u001b[0m\n",
            "\u001b[0;32m/usr/local/lib/python3.10/dist-packages/ipykernel/kernelbase.py\u001b[0m in \u001b[0;36mraw_input\u001b[0;34m(self, prompt)\u001b[0m\n\u001b[1;32m    849\u001b[0m                 \u001b[0;34m\"raw_input was called, but this frontend does not support input requests.\"\u001b[0m\u001b[0;34m\u001b[0m\u001b[0;34m\u001b[0m\u001b[0m\n\u001b[1;32m    850\u001b[0m             )\n\u001b[0;32m--> 851\u001b[0;31m         return self._input_request(str(prompt),\n\u001b[0m\u001b[1;32m    852\u001b[0m             \u001b[0mself\u001b[0m\u001b[0;34m.\u001b[0m\u001b[0m_parent_ident\u001b[0m\u001b[0;34m,\u001b[0m\u001b[0;34m\u001b[0m\u001b[0;34m\u001b[0m\u001b[0m\n\u001b[1;32m    853\u001b[0m             \u001b[0mself\u001b[0m\u001b[0;34m.\u001b[0m\u001b[0m_parent_header\u001b[0m\u001b[0;34m,\u001b[0m\u001b[0;34m\u001b[0m\u001b[0;34m\u001b[0m\u001b[0m\n",
            "\u001b[0;32m/usr/local/lib/python3.10/dist-packages/ipykernel/kernelbase.py\u001b[0m in \u001b[0;36m_input_request\u001b[0;34m(self, prompt, ident, parent, password)\u001b[0m\n\u001b[1;32m    893\u001b[0m             \u001b[0;32mexcept\u001b[0m \u001b[0mKeyboardInterrupt\u001b[0m\u001b[0;34m:\u001b[0m\u001b[0;34m\u001b[0m\u001b[0;34m\u001b[0m\u001b[0m\n\u001b[1;32m    894\u001b[0m                 \u001b[0;31m# re-raise KeyboardInterrupt, to truncate traceback\u001b[0m\u001b[0;34m\u001b[0m\u001b[0;34m\u001b[0m\u001b[0m\n\u001b[0;32m--> 895\u001b[0;31m                 \u001b[0;32mraise\u001b[0m \u001b[0mKeyboardInterrupt\u001b[0m\u001b[0;34m(\u001b[0m\u001b[0;34m\"Interrupted by user\"\u001b[0m\u001b[0;34m)\u001b[0m \u001b[0;32mfrom\u001b[0m \u001b[0;32mNone\u001b[0m\u001b[0;34m\u001b[0m\u001b[0;34m\u001b[0m\u001b[0m\n\u001b[0m\u001b[1;32m    896\u001b[0m             \u001b[0;32mexcept\u001b[0m \u001b[0mException\u001b[0m \u001b[0;32mas\u001b[0m \u001b[0me\u001b[0m\u001b[0;34m:\u001b[0m\u001b[0;34m\u001b[0m\u001b[0;34m\u001b[0m\u001b[0m\n\u001b[1;32m    897\u001b[0m                 \u001b[0mself\u001b[0m\u001b[0;34m.\u001b[0m\u001b[0mlog\u001b[0m\u001b[0;34m.\u001b[0m\u001b[0mwarning\u001b[0m\u001b[0;34m(\u001b[0m\u001b[0;34m\"Invalid Message:\"\u001b[0m\u001b[0;34m,\u001b[0m \u001b[0mexc_info\u001b[0m\u001b[0;34m=\u001b[0m\u001b[0;32mTrue\u001b[0m\u001b[0;34m)\u001b[0m\u001b[0;34m\u001b[0m\u001b[0;34m\u001b[0m\u001b[0m\n",
            "\u001b[0;31mKeyboardInterrupt\u001b[0m: Interrupted by user"
          ]
        }
      ]
    }
  ]
}